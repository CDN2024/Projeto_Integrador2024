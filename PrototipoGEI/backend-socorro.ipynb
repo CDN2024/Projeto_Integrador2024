{
 "cells": [
  {
   "cell_type": "code",
   "execution_count": 13,
   "id": "120c0f76-efec-4990-989c-71f161796107",
   "metadata": {},
   "outputs": [
    {
     "data": {
      "application/vnd.jupyter.widget-view+json": {
       "model_id": "449ba8b907ac450bbc82ab1335c041e1",
       "version_major": 2,
       "version_minor": 0
      },
      "text/plain": [
       "HTML(value='<h2>📊 Dashboard</h2>')"
      ]
     },
     "metadata": {},
     "output_type": "display_data"
    },
    {
     "name": "stdout",
     "output_type": "stream",
     "text": [
      "Peças Enviadas: 120\n",
      "Peças Devolvidas: 80\n",
      "Peças Pendentes: 40\n",
      "\n",
      "Gráfico de Peças Processadas\n"
     ]
    },
    {
     "data": {
      "image/png": "[encoded data removed]",
      "text/plain": [
       "<Figure size 640x480 with 1 Axes>"
      ]
     },
     "metadata": {},
     "output_type": "display_data"
    }
   ],
   "source": [
    "%matplotlib inline\n",
    "import pandas as pd\n",
    "import numpy as np\n",
    "import matplotlib.pyplot as plt\n",
    "import ipywidgets as widgets\n",
    "from IPython.display import display, clear_output\n",
    "\n",
    "# Funções para cada menu\n",
    "def show_dashboard():\n",
    "    clear_output()\n",
    "    display(widgets.HTML(value=\"<h2>📊 Dashboard</h2>\"))\n",
    "    \n",
    "    print(\"Peças Enviadas:\", 120)\n",
    "    print(\"Peças Devolvidas:\", 80)\n",
    "    print(\"Peças Pendentes:\", 40)\n",
    "    \n",
    "    print(\"\\nGráfico de Peças Processadas\")\n",
    "    data = pd.DataFrame({\n",
    "        'Semana': ['Semana 1', 'Semana 2', 'Semana 3', 'Semana 4'],\n",
    "        'Enviadas': [30, 40, 20, 30],\n",
    "        'Devolvidas': [20, 20, 20, 20]\n",
    "    }).set_index('Semana')\n",
    "    \n",
    "    data.plot(kind='bar')\n",
    "    plt.title(\"Peças Processadas por Semana\")\n",
    "    plt.ylabel(\"Quantidade\")\n",
    "    plt.show()\n",
    "\n",
    "def show_pecas():\n",
    "    clear_output()\n",
    "    display(widgets.HTML(value=\"<h2>📦 Cadastro de Peças</h2>\"))\n",
    "    \n",
    "    display(numero_material, descricao, quantidade, status, empresa_dest, salvar_peca_btn)\n",
    "\n",
    "def on_salvar_peca_clicked(b):\n",
    "    print(\"Peça cadastrada com sucesso!\")\n",
    "\n",
    "def show_empresas():\n",
    "    clear_output()\n",
    "    display(widgets.HTML(value=\"<h2>🏢 Cadastro de Empresas</h2>\"))\n",
    "    \n",
    "    display(nome_empresa, contato_empresa, cadastrar_empresa_btn)\n",
    "\n",
    "def on_cadastrar_empresa_clicked(b):\n",
    "    print(\"Empresa cadastrada com sucesso!\")\n",
    "\n",
    "def show_comunicacao():\n",
    "    clear_output()\n",
    "    display(widgets.HTML(value=\"<h2>💬 Comunicação</h2>\"))\n",
    "    \n",
    "    display(empresa_comunicacao, mensagem_input, enviar_msg_btn)\n",
    "    print(\"\\nHistórico de Mensagens:\")\n",
    "    print(\"[2025-05-29] — Fulano: Olá, enviamos as peças.\")\n",
    "    print(\"[2025-05-29] — Ciclano: Recebido, obrigado.\")\n",
    "\n",
    "def on_enviar_mensagem_clicked(b):\n",
    "    print(f\"Mensagem enviada para {empresa_comunicacao.value}\")\n",
    "\n",
    "def show_relatorios():\n",
    "    clear_output()\n",
    "    display(widgets.HTML(value=\"<h2>📄 Relatórios</h2>\"))\n",
    "    print(\"Em breve: geração de relatórios em Excel e PDF.\")\n",
    "\n",
    "def show_configuracoes():\n",
    "    clear_output()\n",
    "    display(widgets.HTML(value=\"<h2>⚙️ Configurações</h2>\"))\n",
    "    print(\"Configurações gerais do sistema.\")\n",
    "\n",
    "# Widgets de input para \"Peças\"\n",
    "numero_material = widgets.Text(placeholder='Número do Material')\n",
    "descricao = widgets.Text(placeholder='Descrição')\n",
    "quantidade = widgets.IntText(min=0)\n",
    "status = widgets.Dropdown(options=[\"Enviado\", \"Processando\", \"Devolvido\"])\n",
    "empresa_dest = widgets.Dropdown(options=[\"Empresa A\", \"Empresa B\", \"Empresa C\"])\n",
    "salvar_peca_btn = widgets.Button(description=\"Salvar\")\n",
    "salvar_peca_btn.on_click(on_salvar_peca_clicked)\n",
    "\n",
    "# Widgets para \"Empresas\"\n",
    "nome_empresa = widgets.Text(placeholder='Nome da Empresa')\n",
    "contato_empresa = widgets.Text(placeholder='Contato')\n",
    "cadastrar_empresa_btn = widgets.Button(description=\"Cadastrar\")\n",
    "cadastrar_empresa_btn.on_click(on_cadastrar_empresa_clicked)\n",
    "\n",
    "# Widgets para \"Comunicação\"\n",
    "empresa_comunicacao = widgets.Dropdown(options=[\"Empresa A\", \"Empresa B\", \"Empresa C\"])\n",
    "mensagem_input = widgets.Textarea(placeholder='Digite sua mensagem')\n",
    "enviar_msg_btn = widgets.Button(description=\"Enviar\")\n",
    "enviar_msg_btn.on_click(on_enviar_mensagem_clicked)\n",
    "\n",
    "# Menu principal\n",
    "menu = widgets.ToggleButtons(\n",
    "    options=[\"Dashboard\", \"Peças\", \"Empresas\", \"Comunicação\", \"Relatórios\", \"Configurações\"],\n",
    "    description='Menu:',\n",
    "    button_style='info'\n",
    ")\n",
    "\n",
    "# Lógica de navegação\n",
    "def on_menu_change(change):\n",
    "    if change['type'] == 'change' and change['name'] == 'value':\n",
    "        if menu.value == \"Dashboard\":\n",
    "            show_dashboard()\n",
    "        elif menu.value == \"Peças\":\n",
    "            show_pecas()\n",
    "        elif menu.value == \"Empresas\":\n",
    "            show_empresas()\n",
    "        elif menu.value == \"Comunicação\":\n",
    "            show_comunicacao()\n",
    "        elif menu.value == \"Relatórios\":\n",
    "            show_relatorios()\n",
    "        elif menu.value == \"Configurações\":\n",
    "            show_configuracoes()\n",
    "\n",
    "menu.observe(on_menu_change)\n",
    "display(menu)\n",
    "\n",
    "\n",
    "show_dashboard()"
   ]
  },
  {
   "cell_type": "code",
   "execution_count": null,
   "id": "fc122e4b-401c-47c8-b591-b121beff1d5e",
   "metadata": {},
   "outputs": [],
   "source": []
  }
 ],
 "metadata": {
  "kernelspec": {
   "display_name": "Python [conda env:base] *",
   "language": "python",
   "name": "conda-base-py"
  },
  "language_info": {
   "codemirror_mode": {
    "name": "ipython",
    "version": 3
   },
   "file_extension": ".py",
   "mimetype": "text/x-python",
   "name": "python",
   "nbconvert_exporter": "python",
   "pygments_lexer": "ipython3",
   "version": "3.12.7"
  }
 },
 "nbformat": 4,
 "nbformat_minor": 5
}
