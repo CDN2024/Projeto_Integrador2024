{
 "cells": [
  {
   "cell_type": "code",
   "execution_count": 1,
   "id": "3db5b875-cfa4-4740-94e2-4c100ffa69fb",
   "metadata": {},
   "outputs": [
    {
     "name": "stdout",
     "output_type": "stream",
     "text": [
      "Olá Mundo!\n"
     ]
    }
   ],
   "source": [
    "print(\"Olá Mundo!\")"
   ]
  },
  {
   "cell_type": "code",
   "execution_count": 2,
   "id": "bdaa0c46-a6e4-4bda-a2bc-8a5e096f44a5",
   "metadata": {},
   "outputs": [
    {
     "data": {
      "text/plain": [
       "10"
      ]
     },
     "execution_count": 2,
     "metadata": {},
     "output_type": "execute_result"
    }
   ],
   "source": [
    "5+5"
   ]
  },
  {
   "cell_type": "code",
   "execution_count": 2,
   "id": "8d3e632a-5859-4469-870b-3cb1ea3dad51",
   "metadata": {},
   "outputs": [
    {
     "data": {
      "text/plain": [
       "10"
      ]
     },
     "execution_count": 2,
     "metadata": {},
     "output_type": "execute_result"
    }
   ],
   "source": [
    "5+5"
   ]
  },
  {
   "cell_type": "code",
   "execution_count": 3,
   "id": "c94cf8b2-bafc-419d-8d64-a9b7e6f34eee",
   "metadata": {},
   "outputs": [],
   "source": [
    "nome = \"Bruno Vinicius Urias Queiroz\""
   ]
  },
  {
   "cell_type": "code",
   "execution_count": 4,
   "id": "64e68c4f-5cbb-4fad-bb15-e3a8ab89c364",
   "metadata": {},
   "outputs": [
    {
     "data": {
      "text/plain": [
       "'Bruno Vinicius Urias Queiroz'"
      ]
     },
     "execution_count": 4,
     "metadata": {},
     "output_type": "execute_result"
    }
   ],
   "source": [
    "nome"
   ]
  },
  {
   "cell_type": "code",
   "execution_count": 5,
   "id": "845f3533-707f-4d5d-bd3b-b3dc9fc89e0b",
   "metadata": {},
   "outputs": [
    {
     "name": "stdout",
     "output_type": "stream",
     "text": [
      "Bruno Vinicius Urias Queiroz\n"
     ]
    }
   ],
   "source": [
    "print(nome)"
   ]
  },
  {
   "cell_type": "code",
   "execution_count": 6,
   "id": "6fe8073b-ecfc-45e7-a844-300dc6ff7c87",
   "metadata": {},
   "outputs": [
    {
     "name": "stdout",
     "output_type": "stream",
     "text": [
      "Bruno Vinicius Urias Queiroz\n"
     ]
    }
   ],
   "source": [
    "nome = \"Bruno Vinicius Urias Queiroz\"\n",
    "print(nome)\n"
   ]
  },
  {
   "cell_type": "code",
   "execution_count": 7,
   "id": "4327a4cf-730d-40d8-bf07-41906b29a720",
   "metadata": {},
   "outputs": [],
   "source": [
    "x = 345\n"
   ]
  },
  {
   "cell_type": "code",
   "execution_count": 22,
   "id": "19a34f07-c532-4ee2-8d0d-2a9d9cd6f8f7",
   "metadata": {},
   "outputs": [],
   "source": [
    "b = 2\n"
   ]
  },
  {
   "cell_type": "code",
   "execution_count": 24,
   "id": "1a62d036-e117-44dc-9b48-59029494f454",
   "metadata": {},
   "outputs": [],
   "source": [
    "c = 9"
   ]
  },
  {
   "cell_type": "code",
   "execution_count": 8,
   "id": "0de3968f-17ea-42ba-867e-8ac6b100574f",
   "metadata": {},
   "outputs": [],
   "source": [
    "y = x + 2"
   ]
  },
  {
   "cell_type": "code",
   "execution_count": 9,
   "id": "cb360b8a-229f-4b64-88df-3dc615497e32",
   "metadata": {},
   "outputs": [
    {
     "name": "stdout",
     "output_type": "stream",
     "text": [
      "345 347\n"
     ]
    }
   ],
   "source": [
    "print(x , y)"
   ]
  },
  {
   "cell_type": "code",
   "execution_count": 10,
   "id": "20a77225-f0ce-49d7-82d8-919b08c128c2",
   "metadata": {},
   "outputs": [
    {
     "data": {
      "text/plain": [
       "347"
      ]
     },
     "execution_count": 10,
     "metadata": {},
     "output_type": "execute_result"
    }
   ],
   "source": [
    "y"
   ]
  },
  {
   "cell_type": "code",
   "execution_count": 13,
   "id": "d211a2eb-9333-4f8e-abba-ff3218d217d5",
   "metadata": {},
   "outputs": [],
   "source": [
    "x = ((3 * y) / (5 * y + 7)) + (2 * y)"
   ]
  },
  {
   "cell_type": "code",
   "execution_count": 25,
   "id": "aae4f33c-12b5-4320-ad9d-a3528698e7cf",
   "metadata": {},
   "outputs": [],
   "source": [
    "y = ((x + 3 * b) ) / (2 * x + c )\n"
   ]
  },
  {
   "cell_type": "code",
   "execution_count": 26,
   "id": "7c611eb5-a1d5-4e55-86d5-517289a74d74",
   "metadata": {},
   "outputs": [
    {
     "name": "stdout",
     "output_type": "stream",
     "text": [
      "694.597588978186 0.5010728115957261\n"
     ]
    }
   ],
   "source": [
    "print( x , y)"
   ]
  },
  {
   "cell_type": "code",
   "execution_count": 27,
   "id": "a6ac2ad3-7def-4d02-bd17-10278cfa39ad",
   "metadata": {},
   "outputs": [],
   "source": [
    "a = 5"
   ]
  },
  {
   "cell_type": "code",
   "execution_count": 28,
   "id": "d1f9fd71-9f74-420b-b244-953769ecae56",
   "metadata": {},
   "outputs": [
    {
     "data": {
      "text/plain": [
       "int"
      ]
     },
     "execution_count": 28,
     "metadata": {},
     "output_type": "execute_result"
    }
   ],
   "source": [
    "type (a)"
   ]
  },
  {
   "cell_type": "code",
   "execution_count": 29,
   "id": "fbeeb82f-60e6-4bac-9957-30e0be0a7e2b",
   "metadata": {},
   "outputs": [
    {
     "ename": "NameError",
     "evalue": "name 'true' is not defined",
     "output_type": "error",
     "traceback": [
      "\u001b[1;31m---------------------------------------------------------------------------\u001b[0m",
      "\u001b[1;31mNameError\u001b[0m                                 Traceback (most recent call last)",
      "Cell \u001b[1;32mIn[29], line 1\u001b[0m\n\u001b[1;32m----> 1\u001b[0m a \u001b[38;5;241m=\u001b[39m true\n",
      "\u001b[1;31mNameError\u001b[0m: name 'true' is not defined"
     ]
    }
   ],
   "source": [
    "a = true"
   ]
  },
  {
   "cell_type": "code",
   "execution_count": 30,
   "id": "c7153193-5d3e-41b6-9479-06c3359f31eb",
   "metadata": {},
   "outputs": [],
   "source": [
    "a = True"
   ]
  },
  {
   "cell_type": "code",
   "execution_count": 31,
   "id": "170854aa-75ba-47e6-86d2-64c29001a331",
   "metadata": {},
   "outputs": [
    {
     "data": {
      "text/plain": [
       "bool"
      ]
     },
     "execution_count": 31,
     "metadata": {},
     "output_type": "execute_result"
    }
   ],
   "source": [
    "type (a)"
   ]
  },
  {
   "cell_type": "code",
   "execution_count": 34,
   "id": "70c569e1-44e5-4fc7-9def-d658d94f82cd",
   "metadata": {},
   "outputs": [],
   "source": [
    "a = 5.6   "
   ]
  },
  {
   "cell_type": "code",
   "execution_count": 35,
   "id": "f01f52df-5a1a-48ed-b29f-8c6c1d8d2fff",
   "metadata": {},
   "outputs": [
    {
     "data": {
      "text/plain": [
       "float"
      ]
     },
     "execution_count": 35,
     "metadata": {},
     "output_type": "execute_result"
    }
   ],
   "source": [
    "type (a)"
   ]
  },
  {
   "cell_type": "code",
   "execution_count": 36,
   "id": "ced54223-938f-4279-bbaf-faa06c792015",
   "metadata": {},
   "outputs": [],
   "source": [
    "x = 45\n",
    "y = 50"
   ]
  },
  {
   "cell_type": "code",
   "execution_count": 38,
   "id": "d27f3f02-dbec-42a7-b26e-d5ef81294888",
   "metadata": {},
   "outputs": [],
   "source": [
    "soma = x + y  "
   ]
  },
  {
   "cell_type": "code",
   "execution_count": 39,
   "id": "5f06500c-af82-41ee-980e-3d5019f3b970",
   "metadata": {},
   "outputs": [
    {
     "name": "stdout",
     "output_type": "stream",
     "text": [
      "95\n"
     ]
    }
   ],
   "source": [
    "print(soma)"
   ]
  },
  {
   "cell_type": "code",
   "execution_count": 40,
   "id": "42a73b78-51e9-4a72-9473-d5d09f7e8e59",
   "metadata": {},
   "outputs": [
    {
     "data": {
      "text/plain": [
       "0.9"
      ]
     },
     "execution_count": 40,
     "metadata": {},
     "output_type": "execute_result"
    }
   ],
   "source": [
    "x / y "
   ]
  },
  {
   "cell_type": "code",
   "execution_count": 41,
   "id": "e662f65e-03bd-46a5-8687-cb341fc6f423",
   "metadata": {},
   "outputs": [
    {
     "data": {
      "text/plain": [
       "0"
      ]
     },
     "execution_count": 41,
     "metadata": {},
     "output_type": "execute_result"
    }
   ],
   "source": [
    "x // y"
   ]
  },
  {
   "cell_type": "code",
   "execution_count": null,
   "id": "e0a0c997-f61c-4594-94ff-ee184e437d41",
   "metadata": {},
   "outputs": [],
   "source": [
    "x = 5"
   ]
  },
  {
   "cell_type": "code",
   "execution_count": 1,
   "id": "fe1dd910-2bda-4631-b04b-9d967c76993a",
   "metadata": {},
   "outputs": [
    {
     "ename": "NameError",
     "evalue": "name 'true' is not defined",
     "output_type": "error",
     "traceback": [
      "\u001b[1;31m---------------------------------------------------------------------------\u001b[0m",
      "\u001b[1;31mNameError\u001b[0m                                 Traceback (most recent call last)",
      "Cell \u001b[1;32mIn[1], line 1\u001b[0m\n\u001b[1;32m----> 1\u001b[0m x \u001b[38;5;241m=\u001b[39m true\n",
      "\u001b[1;31mNameError\u001b[0m: name 'true' is not defined"
     ]
    }
   ],
   "source": [
    "x = true"
   ]
  },
  {
   "cell_type": "code",
   "execution_count": 2,
   "id": "e10ab198-8ee1-4248-9173-41ffc1fc9c47",
   "metadata": {},
   "outputs": [],
   "source": [
    "nome = 'Bruno'"
   ]
  },
  {
   "cell_type": "code",
   "execution_count": 3,
   "id": "527ab1bb-73c8-422e-89df-03d3700afd09",
   "metadata": {},
   "outputs": [],
   "source": [
    "pronome = \" Queiroz\""
   ]
  },
  {
   "cell_type": "code",
   "execution_count": 4,
   "id": "76920c75-83fe-43da-a3a9-7efc4f3f1eca",
   "metadata": {},
   "outputs": [],
   "source": [
    "nome_completo = nome + pronome"
   ]
  },
  {
   "cell_type": "code",
   "execution_count": 5,
   "id": "2eb05da2-9fe6-46f7-a5f3-9fb314e926f3",
   "metadata": {},
   "outputs": [
    {
     "data": {
      "text/plain": [
       "'Bruno Queiroz'"
      ]
     },
     "execution_count": 5,
     "metadata": {},
     "output_type": "execute_result"
    }
   ],
   "source": [
    "nome_completo"
   ]
  },
  {
   "cell_type": "code",
   "execution_count": 6,
   "id": "b12f56c3-e0f2-493c-856c-8efeefc14aff",
   "metadata": {},
   "outputs": [
    {
     "data": {
      "text/plain": [
       "'B'"
      ]
     },
     "execution_count": 6,
     "metadata": {},
     "output_type": "execute_result"
    }
   ],
   "source": [
    "nome[0]"
   ]
  },
  {
   "cell_type": "code",
   "execution_count": 11,
   "id": "45da9529-f9cb-4e29-b024-8f488dd3bd77",
   "metadata": {},
   "outputs": [
    {
     "ename": "TypeError",
     "evalue": "string indices must be integers, not 'tuple'",
     "output_type": "error",
     "traceback": [
      "\u001b[1;31m---------------------------------------------------------------------------\u001b[0m",
      "\u001b[1;31mTypeError\u001b[0m                                 Traceback (most recent call last)",
      "Cell \u001b[1;32mIn[11], line 1\u001b[0m\n\u001b[1;32m----> 1\u001b[0m nome[\u001b[38;5;241m0\u001b[39m,\u001b[38;5;241m2\u001b[39m]\n",
      "\u001b[1;31mTypeError\u001b[0m: string indices must be integers, not 'tuple'"
     ]
    }
   ],
   "source": [
    "nome[0,2]"
   ]
  }
 ],
 "metadata": {
  "kernelspec": {
   "display_name": "Python 3 (ipykernel)",
   "language": "python",
   "name": "python3"
  },
  "language_info": {
   "codemirror_mode": {
    "name": "ipython",
    "version": 3
   },
   "file_extension": ".py",
   "mimetype": "text/x-python",
   "name": "python",
   "nbconvert_exporter": "python",
   "pygments_lexer": "ipython3",
   "version": "3.12.4"
  }
 },
 "nbformat": 4,
 "nbformat_minor": 5
}
